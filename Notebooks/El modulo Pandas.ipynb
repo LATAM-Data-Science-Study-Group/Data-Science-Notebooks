{
  "cells": [
    {
      "cell_type": "markdown",
      "metadata": {
        "id": "view-in-github",
        "colab_type": "text"
      },
      "source": [
        "<a href=\"https://colab.research.google.com/github/LATAM-Data-Science-Study-Group/Data-Science-Notebooks/blob/master/El%20modulo%20Pandas.ipynb\" target=\"_parent\"><img src=\"https://colab.research.google.com/assets/colab-badge.svg\" alt=\"Open In Colab\"/></a>"
      ]
    },
    {
      "cell_type": "markdown",
      "metadata": {
        "id": "oeST47UqLvXp"
      },
      "source": [
        "# El modulo Pandas\n",
        "\n",
        "Este modulo provee APIs para manipular estructuras de datos de manera sencilla. Las principales estructuras definidas en pandas son DataFrame y Series."
      ]
    },
    {
      "cell_type": "markdown",
      "metadata": {
        "id": "wpLkzDEbNQO0"
      },
      "source": [
        "## DataFrame\n",
        "\n",
        "Un DataFrame es una estructura de datos tabular representada por una tabla de dos dimensiones, esta compuesta por filas, columnas, indices y celdas, bastante simiar a una tabla de Excel o a una base de datos."
      ]
    },
    {
      "cell_type": "markdown",
      "metadata": {
        "id": "_o33TKpnSLc8"
      },
      "source": [
        "## Series\n",
        "\n",
        "Un pandas Series es basicamente un DataFrame de una sola columna\n"
      ]
    }
  ],
  "metadata": {
    "colab": {
      "name": "El modulo Pandas.ipynb",
      "provenance": [],
      "authorship_tag": "ABX9TyNLQz/kXH3xoA0/DeiDDVYl",
      "include_colab_link": true
    },
    "kernelspec": {
      "name": "python3",
      "display_name": "Python 3"
    }
  },
  "nbformat": 4,
  "nbformat_minor": 0
}