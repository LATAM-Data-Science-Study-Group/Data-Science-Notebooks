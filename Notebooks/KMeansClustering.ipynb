{
 "metadata": {
  "language_info": {
   "codemirror_mode": {
    "name": "ipython",
    "version": 3
   },
   "file_extension": ".py",
   "mimetype": "text/x-python",
   "name": "python",
   "nbconvert_exporter": "python",
   "pygments_lexer": "ipython3",
   "version": "3.8.4-final"
  },
  "orig_nbformat": 2,
  "kernelspec": {
   "name": "Python 3.8.4 32-bit",
   "display_name": "Python 3.8.4 32-bit",
   "metadata": {
    "interpreter": {
     "hash": "6fa8c4a0213b3e8e46e64ca221d4ef2f7254b1e53b83d6209b624a99d7aa7db4"
    }
   }
  }
 },
 "nbformat": 4,
 "nbformat_minor": 2,
 "cells": [
  {
   "source": [
    "# **K-means Clustering**\n",
    "\n",
    "This is an unsupervised algorithm which is used when we have unlabelled data. The goal of this algorithm is to find groups in data (number of groups is represented by K).\n",
    "\n",
    "Mathematically, this algorithm separates n points into k groups, where k<=n.\n",
    "\n",
    "First, a set of k random points are chosen as centroids. Now , rest of the points are assigned to closest cluster centroid.Then again, centroid of newly formed cluster i sfound and whole process is repated. This keeps on repeating until centroid of newly formed clusters is same OR maxiumum number of iterations reached OR points don'e change in cluster.\n",
    "\n",
    "It has various applications like customer segmentation,recommendation engine etc..\n"
   ],
   "cell_type": "markdown",
   "metadata": {}
  },
  {
   "source": [
    "### Step 1: Importing Libraries"
   ],
   "cell_type": "markdown",
   "metadata": {}
  },
  {
   "cell_type": "code",
   "execution_count": 1,
   "metadata": {},
   "outputs": [],
   "source": [
    "import matplotlib.pyplot as plt\n",
    "import pandas as pd\n",
    "from sklearn import datasets\n",
    "%matplotlib inline"
   ]
  },
  {
   "cell_type": "code",
   "execution_count": null,
   "metadata": {},
   "outputs": [],
   "source": []
  }
 ]
}