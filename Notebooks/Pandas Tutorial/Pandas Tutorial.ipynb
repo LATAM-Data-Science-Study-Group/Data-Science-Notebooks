{
 "cells": [
  {
   "cell_type": "markdown",
   "metadata": {},
   "source": [
    "# Pandas\n",
    "\n",
    "Pandas is seriously a game changer when it comes to cleaning, transforming, manipulating and analyzing data. In simple terms, Pandas helps to clean the mess."
   ]
  },
  {
   "cell_type": "markdown",
   "metadata": {},
   "source": [
    "###### CHEAT SHEET : https://www.dataquest.io/blog/pandas-cheat-sheet/"
   ]
  },
  {
   "cell_type": "code",
   "execution_count": 1,
   "metadata": {},
   "outputs": [
    {
     "name": "stdout",
     "output_type": "stream",
     "text": [
      "       #                       Name    Type 1  Type 2   HP  Attack  Defense  \\\n",
      "0      1                  Bulbasaur     Grass  Poison   45      49       49   \n",
      "1      2                    Ivysaur     Grass  Poison   60      62       63   \n",
      "2      3                   Venusaur     Grass  Poison   80      82       83   \n",
      "3      3      VenusaurMega Venusaur     Grass  Poison   80     100      123   \n",
      "4      4                 Charmander      Fire     NaN   39      52       43   \n",
      "5      5                 Charmeleon      Fire     NaN   58      64       58   \n",
      "6      6                  Charizard      Fire  Flying   78      84       78   \n",
      "7      6  CharizardMega Charizard X      Fire  Dragon   78     130      111   \n",
      "8      6  CharizardMega Charizard Y      Fire  Flying   78     104       78   \n",
      "9      7                   Squirtle     Water     NaN   44      48       65   \n",
      "10     8                  Wartortle     Water     NaN   59      63       80   \n",
      "11     9                  Blastoise     Water     NaN   79      83      100   \n",
      "12     9    BlastoiseMega Blastoise     Water     NaN   79     103      120   \n",
      "13    10                   Caterpie       Bug     NaN   45      30       35   \n",
      "14    11                    Metapod       Bug     NaN   50      20       55   \n",
      "15    12                 Butterfree       Bug  Flying   60      45       50   \n",
      "16    13                     Weedle       Bug  Poison   40      35       30   \n",
      "17    14                     Kakuna       Bug  Poison   45      25       50   \n",
      "18    15                   Beedrill       Bug  Poison   65      90       40   \n",
      "19    15      BeedrillMega Beedrill       Bug  Poison   65     150       40   \n",
      "20    16                     Pidgey    Normal  Flying   40      45       40   \n",
      "21    17                  Pidgeotto    Normal  Flying   63      60       55   \n",
      "22    18                    Pidgeot    Normal  Flying   83      80       75   \n",
      "23    18        PidgeotMega Pidgeot    Normal  Flying   83      80       80   \n",
      "24    19                    Rattata    Normal     NaN   30      56       35   \n",
      "25    20                   Raticate    Normal     NaN   55      81       60   \n",
      "26    21                    Spearow    Normal  Flying   40      60       30   \n",
      "27    22                     Fearow    Normal  Flying   65      90       65   \n",
      "28    23                      Ekans    Poison     NaN   35      60       44   \n",
      "29    24                      Arbok    Poison     NaN   60      85       69   \n",
      "..   ...                        ...       ...     ...  ...     ...      ...   \n",
      "770  700                    Sylveon     Fairy     NaN   95      65       65   \n",
      "771  701                   Hawlucha  Fighting  Flying   78      92       75   \n",
      "772  702                    Dedenne  Electric   Fairy   67      58       57   \n",
      "773  703                    Carbink      Rock   Fairy   50      50      150   \n",
      "774  704                      Goomy    Dragon     NaN   45      50       35   \n",
      "775  705                    Sliggoo    Dragon     NaN   68      75       53   \n",
      "776  706                     Goodra    Dragon     NaN   90     100       70   \n",
      "777  707                     Klefki     Steel   Fairy   57      80       91   \n",
      "778  708                   Phantump     Ghost   Grass   43      70       48   \n",
      "779  709                  Trevenant     Ghost   Grass   85     110       76   \n",
      "780  710      PumpkabooAverage Size     Ghost   Grass   49      66       70   \n",
      "781  710        PumpkabooSmall Size     Ghost   Grass   44      66       70   \n",
      "782  710        PumpkabooLarge Size     Ghost   Grass   54      66       70   \n",
      "783  710        PumpkabooSuper Size     Ghost   Grass   59      66       70   \n",
      "784  711      GourgeistAverage Size     Ghost   Grass   65      90      122   \n",
      "785  711        GourgeistSmall Size     Ghost   Grass   55      85      122   \n",
      "786  711        GourgeistLarge Size     Ghost   Grass   75      95      122   \n",
      "787  711        GourgeistSuper Size     Ghost   Grass   85     100      122   \n",
      "788  712                   Bergmite       Ice     NaN   55      69       85   \n",
      "789  713                    Avalugg       Ice     NaN   95     117      184   \n",
      "790  714                     Noibat    Flying  Dragon   40      30       35   \n",
      "791  715                    Noivern    Flying  Dragon   85      70       80   \n",
      "792  716                    Xerneas     Fairy     NaN  126     131       95   \n",
      "793  717                    Yveltal      Dark  Flying  126     131       95   \n",
      "794  718           Zygarde50% Forme    Dragon  Ground  108     100      121   \n",
      "795  719                    Diancie      Rock   Fairy   50     100      150   \n",
      "796  719        DiancieMega Diancie      Rock   Fairy   50     160      110   \n",
      "797  720        HoopaHoopa Confined   Psychic   Ghost   80     110       60   \n",
      "798  720         HoopaHoopa Unbound   Psychic    Dark   80     160       60   \n",
      "799  721                  Volcanion      Fire   Water   80     110      120   \n",
      "\n",
      "     Sp. Atk  Sp. Def  Speed  Generation  Legendary  \n",
      "0         65       65     45           1      False  \n",
      "1         80       80     60           1      False  \n",
      "2        100      100     80           1      False  \n",
      "3        122      120     80           1      False  \n",
      "4         60       50     65           1      False  \n",
      "5         80       65     80           1      False  \n",
      "6        109       85    100           1      False  \n",
      "7        130       85    100           1      False  \n",
      "8        159      115    100           1      False  \n",
      "9         50       64     43           1      False  \n",
      "10        65       80     58           1      False  \n",
      "11        85      105     78           1      False  \n",
      "12       135      115     78           1      False  \n",
      "13        20       20     45           1      False  \n",
      "14        25       25     30           1      False  \n",
      "15        90       80     70           1      False  \n",
      "16        20       20     50           1      False  \n",
      "17        25       25     35           1      False  \n",
      "18        45       80     75           1      False  \n",
      "19        15       80    145           1      False  \n",
      "20        35       35     56           1      False  \n",
      "21        50       50     71           1      False  \n",
      "22        70       70    101           1      False  \n",
      "23       135       80    121           1      False  \n",
      "24        25       35     72           1      False  \n",
      "25        50       70     97           1      False  \n",
      "26        31       31     70           1      False  \n",
      "27        61       61    100           1      False  \n",
      "28        40       54     55           1      False  \n",
      "29        65       79     80           1      False  \n",
      "..       ...      ...    ...         ...        ...  \n",
      "770      110      130     60           6      False  \n",
      "771       74       63    118           6      False  \n",
      "772       81       67    101           6      False  \n",
      "773       50      150     50           6      False  \n",
      "774       55       75     40           6      False  \n",
      "775       83      113     60           6      False  \n",
      "776      110      150     80           6      False  \n",
      "777       80       87     75           6      False  \n",
      "778       50       60     38           6      False  \n",
      "779       65       82     56           6      False  \n",
      "780       44       55     51           6      False  \n",
      "781       44       55     56           6      False  \n",
      "782       44       55     46           6      False  \n",
      "783       44       55     41           6      False  \n",
      "784       58       75     84           6      False  \n",
      "785       58       75     99           6      False  \n",
      "786       58       75     69           6      False  \n",
      "787       58       75     54           6      False  \n",
      "788       32       35     28           6      False  \n",
      "789       44       46     28           6      False  \n",
      "790       45       40     55           6      False  \n",
      "791       97       80    123           6      False  \n",
      "792      131       98     99           6       True  \n",
      "793      131       98     99           6       True  \n",
      "794       81       95     95           6       True  \n",
      "795      100      150     50           6       True  \n",
      "796      160      110    110           6       True  \n",
      "797      150      130     70           6       True  \n",
      "798      170      130     80           6       True  \n",
      "799      130       90     70           6       True  \n",
      "\n",
      "[800 rows x 12 columns]\n"
     ]
    }
   ],
   "source": [
    "import pandas as pd\n",
    "\n",
    "df = pd.read_csv('pokemon_data.csv')\n",
    "print(df)\n",
    "\n",
    "#df_xlsx = pd.read_excel('pokemon_data.xlsx')\n",
    "#print(df_xlsx.head(3))\n",
    "\n",
    "#df = pd.read_csv('pokemon_data.txt', delimiter='\\t')\n",
    "#print(df)\n",
    "\n",
    "#df['HP'] #select a series/column from a dataset"
   ]
  },
  {
   "cell_type": "code",
   "execution_count": 2,
   "metadata": {},
   "outputs": [
    {
     "name": "stdout",
     "output_type": "stream",
     "text": [
      "                       City Colors Reported Shape Reported State  \\\n",
      "0                    Ithaca             NaN       TRIANGLE    NY   \n",
      "1               Willingboro             NaN          OTHER    NJ   \n",
      "2                   Holyoke             NaN           OVAL    CO   \n",
      "3                   Abilene             NaN           DISK    KS   \n",
      "4      New York Worlds Fair             NaN          LIGHT    NY   \n",
      "5               Valley City             NaN           DISK    ND   \n",
      "6               Crater Lake             NaN         CIRCLE    CA   \n",
      "7                      Alma             NaN           DISK    MI   \n",
      "8                   Eklutna             NaN          CIGAR    AK   \n",
      "9                   Hubbard             NaN       CYLINDER    OR   \n",
      "10                  Fontana             NaN          LIGHT    CA   \n",
      "11                 Waterloo             NaN       FIREBALL    AL   \n",
      "12                   Belton             RED         SPHERE    SC   \n",
      "13                   Keokuk             NaN           OVAL    IA   \n",
      "14                Ludington             NaN           DISK    MI   \n",
      "15              Forest Home             NaN         CIRCLE    CA   \n",
      "16              Los Angeles             NaN            NaN    CA   \n",
      "17                Hapeville             NaN            NaN    GA   \n",
      "18                   Oneida             NaN      RECTANGLE    TN   \n",
      "19               Bering Sea             RED          OTHER    AK   \n",
      "20                 Nebraska             NaN           DISK    NE   \n",
      "21                      NaN             NaN            NaN    LA   \n",
      "22                      NaN             NaN          LIGHT    LA   \n",
      "23                Owensboro             NaN      RECTANGLE    KY   \n",
      "24               Wilderness             NaN           DISK    WV   \n",
      "25                San Diego             NaN          CIGAR    CA   \n",
      "26               Wilderness             NaN           DISK    WV   \n",
      "27                   Clovis             NaN           DISK    NM   \n",
      "28               Los Alamos             NaN           DISK    NM   \n",
      "29             Ft. Duschene             NaN           DISK    UT   \n",
      "...                     ...             ...            ...   ...   \n",
      "18211               Holyoke             NaN        DIAMOND    MA   \n",
      "18212                Carson             NaN           DISK    CA   \n",
      "18213              Pasadena           GREEN       FIREBALL    CA   \n",
      "18214                Austin             NaN      FORMATION    TX   \n",
      "18215              El Campo             NaN          OTHER    TX   \n",
      "18216          Garden Grove          ORANGE          LIGHT    CA   \n",
      "18217         Berthoud Pass             NaN       TRIANGLE    CO   \n",
      "18218            Sisterdale             NaN        DIAMOND    TX   \n",
      "18219          Garden Grove             NaN        CHEVRON    CA   \n",
      "18220           Shasta Lake            BLUE           DISK    CA   \n",
      "18221              Franklin             NaN           DISK    NH   \n",
      "18222        Albrightsville             NaN          OTHER    PA   \n",
      "18223            Greenville             NaN            NaN    SC   \n",
      "18224               Eufaula             NaN           DISK    OK   \n",
      "18225           Simi Valley             NaN      FORMATION    CA   \n",
      "18226         San Francisco             NaN      FORMATION    CA   \n",
      "18227         San Francisco             NaN       TRIANGLE    CA   \n",
      "18228            Kingsville             NaN          LIGHT    TX   \n",
      "18229               Chicago             NaN           DISK    IL   \n",
      "18230           Pismo Beach             NaN           OVAL    CA   \n",
      "18231           Pismo Beach             NaN           OVAL    CA   \n",
      "18232                  Lodi             NaN            NaN    WI   \n",
      "18233             Anchorage             RED        VARIOUS    AK   \n",
      "18234              Capitola             NaN       TRIANGLE    CA   \n",
      "18235        Fountain Hills             NaN            NaN    AZ   \n",
      "18236            Grant Park             NaN       TRIANGLE    IL   \n",
      "18237           Spirit Lake             NaN           DISK    IA   \n",
      "18238           Eagle River             NaN            NaN    WI   \n",
      "18239           Eagle River             RED          LIGHT    WI   \n",
      "18240                  Ybor             NaN           OVAL    FL   \n",
      "\n",
      "                   Time  \n",
      "0        6/1/1930 22:00  \n",
      "1       6/30/1930 20:00  \n",
      "2       2/15/1931 14:00  \n",
      "3        6/1/1931 13:00  \n",
      "4       4/18/1933 19:00  \n",
      "5       9/15/1934 15:30  \n",
      "6        6/15/1935 0:00  \n",
      "7        7/15/1936 0:00  \n",
      "8      10/15/1936 17:00  \n",
      "9        6/15/1937 0:00  \n",
      "10      8/15/1937 21:00  \n",
      "11       6/1/1939 20:00  \n",
      "12      6/30/1939 20:00  \n",
      "13        7/7/1939 2:00  \n",
      "14       6/1/1941 13:00  \n",
      "15       7/2/1941 11:30  \n",
      "16       2/25/1942 0:00  \n",
      "17       6/1/1942 22:30  \n",
      "18       7/15/1942 1:00  \n",
      "19      4/30/1943 23:00  \n",
      "20       6/1/1943 15:00  \n",
      "21       8/15/1943 0:00  \n",
      "22       8/15/1943 0:00  \n",
      "23     10/15/1943 11:00  \n",
      "24       1/1/1944 10:00  \n",
      "25       1/1/1944 12:00  \n",
      "26       1/1/1944 12:00  \n",
      "27       4/2/1944 11:00  \n",
      "28       6/1/1944 12:00  \n",
      "29      6/30/1944 10:00  \n",
      "...                 ...  \n",
      "18211  12/28/2000 18:00  \n",
      "18212  12/28/2000 18:20  \n",
      "18213  12/28/2000 19:10  \n",
      "18214   12/29/2000 0:00  \n",
      "18215   12/29/2000 9:00  \n",
      "18216  12/29/2000 16:10  \n",
      "18217  12/29/2000 19:30  \n",
      "18218  12/29/2000 20:00  \n",
      "18219  12/29/2000 20:30  \n",
      "18220  12/29/2000 20:30  \n",
      "18221  12/29/2000 20:50  \n",
      "18222  12/29/2000 21:00  \n",
      "18223  12/29/2000 22:00  \n",
      "18224  12/29/2000 23:30  \n",
      "18225  12/30/2000 10:00  \n",
      "18226  12/30/2000 22:00  \n",
      "18227  12/30/2000 22:00  \n",
      "18228   12/31/2000 4:00  \n",
      "18229  12/31/2000 11:45  \n",
      "18230  12/31/2000 20:00  \n",
      "18231  12/31/2000 20:00  \n",
      "18232  12/31/2000 20:30  \n",
      "18233  12/31/2000 21:00  \n",
      "18234  12/31/2000 22:00  \n",
      "18235  12/31/2000 23:00  \n",
      "18236  12/31/2000 23:00  \n",
      "18237  12/31/2000 23:00  \n",
      "18238  12/31/2000 23:45  \n",
      "18239  12/31/2000 23:45  \n",
      "18240  12/31/2000 23:59  \n",
      "\n",
      "[18241 rows x 5 columns]\n"
     ]
    }
   ],
   "source": [
    "ufo = pd.read_csv('ufo-sightings.csv')\n",
    "print(ufo)"
   ]
  },
  {
   "cell_type": "code",
   "execution_count": 3,
   "metadata": {},
   "outputs": [
    {
     "name": "stdout",
     "output_type": "stream",
     "text": [
      "     star_rating                                              title  \\\n",
      "0            9.3                           The Shawshank Redemption   \n",
      "1            9.2                                      The Godfather   \n",
      "2            9.1                             The Godfather: Part II   \n",
      "3            9.0                                    The Dark Knight   \n",
      "4            8.9                                       Pulp Fiction   \n",
      "5            8.9                                       12 Angry Men   \n",
      "6            8.9                     The Good, the Bad and the Ugly   \n",
      "7            8.9      The Lord of the Rings: The Return of the King   \n",
      "8            8.9                                   Schindler's List   \n",
      "9            8.9                                         Fight Club   \n",
      "10           8.8  The Lord of the Rings: The Fellowship of the Ring   \n",
      "11           8.8                                          Inception   \n",
      "12           8.8     Star Wars: Episode V - The Empire Strikes Back   \n",
      "13           8.8                                       Forrest Gump   \n",
      "14           8.8              The Lord of the Rings: The Two Towers   \n",
      "15           8.7                                       Interstellar   \n",
      "16           8.7                    One Flew Over the Cuckoo's Nest   \n",
      "17           8.7                                      Seven Samurai   \n",
      "18           8.7                                         Goodfellas   \n",
      "19           8.7                                          Star Wars   \n",
      "20           8.7                                         The Matrix   \n",
      "21           8.7                                        City of God   \n",
      "22           8.7                              It's a Wonderful Life   \n",
      "23           8.7                                 The Usual Suspects   \n",
      "24           8.7                                              Se7en   \n",
      "25           8.6                                  Life Is Beautiful   \n",
      "26           8.6                       Once Upon a Time in the West   \n",
      "27           8.6                           The Silence of the Lambs   \n",
      "28           8.6                             Leon: The Professional   \n",
      "29           8.6                                        City Lights   \n",
      "..           ...                                                ...   \n",
      "949          7.4                                         Home Alone   \n",
      "950          7.4                                              Bound   \n",
      "951          7.4                                      Sleepy Hollow   \n",
      "952          7.4                                       Pirate Radio   \n",
      "953          7.4                              The NeverEnding Story   \n",
      "954          7.4                                              X-Men   \n",
      "955          7.4                                   Zero Dark Thirty   \n",
      "956          7.4                           Manhattan Murder Mystery   \n",
      "957          7.4                        National Lampoon's Vacation   \n",
      "958          7.4                                 My Sister's Keeper   \n",
      "959          7.4                               Deconstructing Harry   \n",
      "960          7.4                                   The Way Way Back   \n",
      "961          7.4                                             Capote   \n",
      "962          7.4                                 Driving Miss Daisy   \n",
      "963          7.4                                    La Femme Nikita   \n",
      "964          7.4                                            Lincoln   \n",
      "965          7.4                                          Limitless   \n",
      "966          7.4                                 The Simpsons Movie   \n",
      "967          7.4                                           The Rock   \n",
      "968          7.4                                The English Patient   \n",
      "969          7.4                                Law Abiding Citizen   \n",
      "970          7.4                                        Wonder Boys   \n",
      "971          7.4                                 Death at a Funeral   \n",
      "972          7.4                                     Blue Valentine   \n",
      "973          7.4                              The Cider House Rules   \n",
      "974          7.4                                            Tootsie   \n",
      "975          7.4                        Back to the Future Part III   \n",
      "976          7.4    Master and Commander: The Far Side of the World   \n",
      "977          7.4                                        Poltergeist   \n",
      "978          7.4                                        Wall Street   \n",
      "\n",
      "    content_rating      genre  duration  \\\n",
      "0                R      Crime       142   \n",
      "1                R      Crime       175   \n",
      "2                R      Crime       200   \n",
      "3            PG-13     Action       152   \n",
      "4                R      Crime       154   \n",
      "5        NOT RATED      Drama        96   \n",
      "6        NOT RATED    Western       161   \n",
      "7            PG-13  Adventure       201   \n",
      "8                R  Biography       195   \n",
      "9                R      Drama       139   \n",
      "10           PG-13  Adventure       178   \n",
      "11           PG-13     Action       148   \n",
      "12              PG     Action       124   \n",
      "13           PG-13      Drama       142   \n",
      "14           PG-13  Adventure       179   \n",
      "15           PG-13  Adventure       169   \n",
      "16               R      Drama       133   \n",
      "17         UNRATED      Drama       207   \n",
      "18               R  Biography       146   \n",
      "19              PG     Action       121   \n",
      "20               R     Action       136   \n",
      "21               R      Crime       130   \n",
      "22        APPROVED      Drama       130   \n",
      "23               R      Crime       106   \n",
      "24               R      Drama       127   \n",
      "25           PG-13     Comedy       116   \n",
      "26           PG-13    Western       175   \n",
      "27               R      Drama       118   \n",
      "28               R      Crime       110   \n",
      "29          PASSED     Comedy        87   \n",
      "..             ...        ...       ...   \n",
      "949             PG     Comedy       103   \n",
      "950              R      Crime       108   \n",
      "951              R      Drama       105   \n",
      "952              R     Comedy       117   \n",
      "953             PG  Adventure       102   \n",
      "954          PG-13     Action       104   \n",
      "955              R      Drama       157   \n",
      "956             PG     Comedy       104   \n",
      "957              R     Comedy        98   \n",
      "958          PG-13      Drama       109   \n",
      "959              R     Comedy        96   \n",
      "960          PG-13     Comedy       103   \n",
      "961              R  Biography       114   \n",
      "962             PG     Comedy        99   \n",
      "963              R     Action       118   \n",
      "964          PG-13  Biography       150   \n",
      "965          PG-13    Mystery       105   \n",
      "966          PG-13  Animation        87   \n",
      "967              R     Action       136   \n",
      "968              R      Drama       162   \n",
      "969              R      Crime       109   \n",
      "970              R      Drama       107   \n",
      "971              R     Comedy        90   \n",
      "972          NC-17      Drama       112   \n",
      "973          PG-13      Drama       126   \n",
      "974             PG     Comedy       116   \n",
      "975             PG  Adventure       118   \n",
      "976          PG-13     Action       138   \n",
      "977             PG     Horror       114   \n",
      "978              R      Crime       126   \n",
      "\n",
      "                                           actors_list  \n",
      "0    [u'Tim Robbins', u'Morgan Freeman', u'Bob Gunt...  \n",
      "1      [u'Marlon Brando', u'Al Pacino', u'James Caan']  \n",
      "2    [u'Al Pacino', u'Robert De Niro', u'Robert Duv...  \n",
      "3    [u'Christian Bale', u'Heath Ledger', u'Aaron E...  \n",
      "4    [u'John Travolta', u'Uma Thurman', u'Samuel L....  \n",
      "5    [u'Henry Fonda', u'Lee J. Cobb', u'Martin Bals...  \n",
      "6    [u'Clint Eastwood', u'Eli Wallach', u'Lee Van ...  \n",
      "7    [u'Elijah Wood', u'Viggo Mortensen', u'Ian McK...  \n",
      "8    [u'Liam Neeson', u'Ralph Fiennes', u'Ben Kings...  \n",
      "9    [u'Brad Pitt', u'Edward Norton', u'Helena Bonh...  \n",
      "10   [u'Elijah Wood', u'Ian McKellen', u'Orlando Bl...  \n",
      "11   [u'Leonardo DiCaprio', u'Joseph Gordon-Levitt'...  \n",
      "12   [u'Mark Hamill', u'Harrison Ford', u'Carrie Fi...  \n",
      "13     [u'Tom Hanks', u'Robin Wright', u'Gary Sinise']  \n",
      "14   [u'Elijah Wood', u'Ian McKellen', u'Viggo Mort...  \n",
      "15   [u'Matthew McConaughey', u'Anne Hathaway', u'J...  \n",
      "16   [u'Jack Nicholson', u'Louise Fletcher', u'Mich...  \n",
      "17   [u'Toshir\\xf4 Mifune', u'Takashi Shimura', u'K...  \n",
      "18    [u'Robert De Niro', u'Ray Liotta', u'Joe Pesci']  \n",
      "19   [u'Mark Hamill', u'Harrison Ford', u'Carrie Fi...  \n",
      "20   [u'Keanu Reeves', u'Laurence Fishburne', u'Car...  \n",
      "21   [u'Alexandre Rodrigues', u'Matheus Nachtergael...  \n",
      "22   [u'James Stewart', u'Donna Reed', u'Lionel Bar...  \n",
      "23   [u'Kevin Spacey', u'Gabriel Byrne', u'Chazz Pa...  \n",
      "24   [u'Morgan Freeman', u'Brad Pitt', u'Kevin Spac...  \n",
      "25   [u'Roberto Benigni', u'Nicoletta Braschi', u'G...  \n",
      "26   [u'Henry Fonda', u'Charles Bronson', u'Claudia...  \n",
      "27   [u'Jodie Foster', u'Anthony Hopkins', u'Lawren...  \n",
      "28   [u'Jean Reno', u'Gary Oldman', u'Natalie Portm...  \n",
      "29   [u'Charles Chaplin', u'Virginia Cherrill', u'F...  \n",
      "..                                                 ...  \n",
      "949  [u'Macaulay Culkin', u'Joe Pesci', u'Daniel St...  \n",
      "950  [u'Jennifer Tilly', u'Gina Gershon', u'Joe Pan...  \n",
      "951  [u'Johnny Depp', u'Christina Ricci', u'Miranda...  \n",
      "952  [u'Philip Seymour Hoffman', u'Bill Nighy', u'N...  \n",
      "953  [u'Noah Hathaway', u'Barret Oliver', u'Tami St...  \n",
      "954  [u'Patrick Stewart', u'Hugh Jackman', u'Ian Mc...  \n",
      "955  [u'Jessica Chastain', u'Joel Edgerton', u'Chri...  \n",
      "956  [u'Woody Allen', u'Diane Keaton', u'Jerry Adler']  \n",
      "957  [u'Chevy Chase', u\"Beverly D'Angelo\", u'Imogen...  \n",
      "958  [u'Cameron Diaz', u'Abigail Breslin', u'Alec B...  \n",
      "959  [u'Woody Allen', u'Judy Davis', u'Julia Louis-...  \n",
      "960  [u'Steve Carell', u'Toni Collette', u'Allison ...  \n",
      "961  [u'Philip Seymour Hoffman', u'Clifton Collins ...  \n",
      "962  [u'Morgan Freeman', u'Jessica Tandy', u'Dan Ay...  \n",
      "963  [u'Anne Parillaud', u'Marc Duret', u'Patrick F...  \n",
      "964  [u'Daniel Day-Lewis', u'Sally Field', u'David ...  \n",
      "965  [u'Bradley Cooper', u'Anna Friel', u'Abbie Cor...  \n",
      "966  [u'Dan Castellaneta', u'Julie Kavner', u'Nancy...  \n",
      "967   [u'Sean Connery', u'Nicolas Cage', u'Ed Harris']  \n",
      "968  [u'Ralph Fiennes', u'Juliette Binoche', u'Will...  \n",
      "969  [u'Gerard Butler', u'Jamie Foxx', u'Leslie Bibb']  \n",
      "970  [u'Michael Douglas', u'Tobey Maguire', u'Franc...  \n",
      "971  [u'Matthew Macfadyen', u'Peter Dinklage', u'Ew...  \n",
      "972  [u'Ryan Gosling', u'Michelle Williams', u'John...  \n",
      "973  [u'Tobey Maguire', u'Charlize Theron', u'Micha...  \n",
      "974  [u'Dustin Hoffman', u'Jessica Lange', u'Teri G...  \n",
      "975  [u'Michael J. Fox', u'Christopher Lloyd', u'Ma...  \n",
      "976  [u'Russell Crowe', u'Paul Bettany', u'Billy Bo...  \n",
      "977  [u'JoBeth Williams', u\"Heather O'Rourke\", u'Cr...  \n",
      "978  [u'Charlie Sheen', u'Michael Douglas', u'Tamar...  \n",
      "\n",
      "[979 rows x 6 columns]\n"
     ]
    }
   ],
   "source": [
    "movies = pd.read_csv('http://bit.ly/imdbratings')\n",
    "print(movies)"
   ]
  },
  {
   "cell_type": "code",
   "execution_count": 40,
   "metadata": {},
   "outputs": [
    {
     "name": "stderr",
     "output_type": "stream",
     "text": [
      "C:\\ProgramData\\Anaconda3\\lib\\site-packages\\ipykernel_launcher.py:1: FutureWarning: read_table is deprecated, use read_csv instead, passing sep='\\t'.\n",
      "  \"\"\"Entry point for launching an IPython kernel.\n"
     ]
    },
    {
     "name": "stdout",
     "output_type": "stream",
     "text": [
      "      order_id  quantity                              item_name  \\\n",
      "0            1         1           Chips and Fresh Tomato Salsa   \n",
      "1            1         1                                   Izze   \n",
      "2            1         1                       Nantucket Nectar   \n",
      "3            1         1  Chips and Tomatillo-Green Chili Salsa   \n",
      "4            2         2                           Chicken Bowl   \n",
      "5            3         1                           Chicken Bowl   \n",
      "6            3         1                          Side of Chips   \n",
      "7            4         1                          Steak Burrito   \n",
      "8            4         1                       Steak Soft Tacos   \n",
      "9            5         1                          Steak Burrito   \n",
      "10           5         1                    Chips and Guacamole   \n",
      "11           6         1                   Chicken Crispy Tacos   \n",
      "12           6         1                     Chicken Soft Tacos   \n",
      "13           7         1                           Chicken Bowl   \n",
      "14           7         1                    Chips and Guacamole   \n",
      "15           8         1  Chips and Tomatillo-Green Chili Salsa   \n",
      "16           8         1                        Chicken Burrito   \n",
      "17           9         1                        Chicken Burrito   \n",
      "18           9         2                            Canned Soda   \n",
      "19          10         1                           Chicken Bowl   \n",
      "20          10         1                    Chips and Guacamole   \n",
      "21          11         1                       Barbacoa Burrito   \n",
      "22          11         1                       Nantucket Nectar   \n",
      "23          12         1                        Chicken Burrito   \n",
      "24          12         1                                   Izze   \n",
      "25          13         1           Chips and Fresh Tomato Salsa   \n",
      "26          13         1                           Chicken Bowl   \n",
      "27          14         1                       Carnitas Burrito   \n",
      "28          14         1                            Canned Soda   \n",
      "29          15         1                        Chicken Burrito   \n",
      "...        ...       ...                                    ...   \n",
      "4592      1825         1                       Barbacoa Burrito   \n",
      "4593      1825         1                          Carnitas Bowl   \n",
      "4594      1825         1                          Barbacoa Bowl   \n",
      "4595      1826         1                           Chicken Bowl   \n",
      "4596      1826         1                    Chips and Guacamole   \n",
      "4597      1826         1                      Canned Soft Drink   \n",
      "4598      1826         1                          Bottled Water   \n",
      "4599      1827         1                           Chicken Bowl   \n",
      "4600      1827         1                    Chips and Guacamole   \n",
      "4601      1827         1                      Canned Soft Drink   \n",
      "4602      1827         1                       Barbacoa Burrito   \n",
      "4603      1827         1                       Barbacoa Burrito   \n",
      "4604      1828         1                           Chicken Bowl   \n",
      "4605      1828         1                    Chips and Guacamole   \n",
      "4606      1828         1                      Canned Soft Drink   \n",
      "4607      1829         1                          Steak Burrito   \n",
      "4608      1829         1                         Veggie Burrito   \n",
      "4609      1829         1                      Canned Soft Drink   \n",
      "4610      1830         1                          Steak Burrito   \n",
      "4611      1830         1                         Veggie Burrito   \n",
      "4612      1831         1                          Carnitas Bowl   \n",
      "4613      1831         1                                  Chips   \n",
      "4614      1831         1                          Bottled Water   \n",
      "4615      1832         1                     Chicken Soft Tacos   \n",
      "4616      1832         1                    Chips and Guacamole   \n",
      "4617      1833         1                          Steak Burrito   \n",
      "4618      1833         1                          Steak Burrito   \n",
      "4619      1834         1                     Chicken Salad Bowl   \n",
      "4620      1834         1                     Chicken Salad Bowl   \n",
      "4621      1834         1                     Chicken Salad Bowl   \n",
      "\n",
      "                                     choice_description item_price  \n",
      "0                                                   NaN     $2.39   \n",
      "1                                          [Clementine]     $3.39   \n",
      "2                                               [Apple]     $3.39   \n",
      "3                                                   NaN     $2.39   \n",
      "4     [Tomatillo-Red Chili Salsa (Hot), [Black Beans...    $16.98   \n",
      "5     [Fresh Tomato Salsa (Mild), [Rice, Cheese, Sou...    $10.98   \n",
      "6                                                   NaN     $1.69   \n",
      "7     [Tomatillo Red Chili Salsa, [Fajita Vegetables...    $11.75   \n",
      "8     [Tomatillo Green Chili Salsa, [Pinto Beans, Ch...     $9.25   \n",
      "9     [Fresh Tomato Salsa, [Rice, Black Beans, Pinto...     $9.25   \n",
      "10                                                  NaN     $4.45   \n",
      "11    [Roasted Chili Corn Salsa, [Fajita Vegetables,...     $8.75   \n",
      "12    [Roasted Chili Corn Salsa, [Rice, Black Beans,...     $8.75   \n",
      "13    [Fresh Tomato Salsa, [Fajita Vegetables, Rice,...    $11.25   \n",
      "14                                                  NaN     $4.45   \n",
      "15                                                  NaN     $2.39   \n",
      "16    [Tomatillo-Green Chili Salsa (Medium), [Pinto ...     $8.49   \n",
      "17    [Fresh Tomato Salsa (Mild), [Black Beans, Rice...     $8.49   \n",
      "18                                             [Sprite]     $2.18   \n",
      "19    [Tomatillo Red Chili Salsa, [Fajita Vegetables...     $8.75   \n",
      "20                                                  NaN     $4.45   \n",
      "21    [[Fresh Tomato Salsa (Mild), Tomatillo-Green C...     $8.99   \n",
      "22                                 [Pomegranate Cherry]     $3.39   \n",
      "23    [[Tomatillo-Green Chili Salsa (Medium), Tomati...    $10.98   \n",
      "24                                         [Grapefruit]     $3.39   \n",
      "25                                                  NaN     $2.39   \n",
      "26    [Roasted Chili Corn Salsa (Medium), [Pinto Bea...     $8.49   \n",
      "27    [[Tomatillo-Green Chili Salsa (Medium), Roaste...     $8.99   \n",
      "28                                         [Dr. Pepper]     $1.09   \n",
      "29    [Tomatillo-Green Chili Salsa (Medium), [Pinto ...     $8.49   \n",
      "...                                                 ...        ...  \n",
      "4592  [Tomatillo Red Chili Salsa, [Rice, Fajita Vege...    $11.75   \n",
      "4593  [Roasted Chili Corn Salsa, [Rice, Sour Cream, ...    $11.75   \n",
      "4594  [Roasted Chili Corn Salsa, [Pinto Beans, Sour ...    $11.75   \n",
      "4595  [Tomatillo Green Chili Salsa, [Rice, Black Bea...     $8.75   \n",
      "4596                                                NaN     $4.45   \n",
      "4597                                           [Nestea]     $1.25   \n",
      "4598                                                NaN     $1.50   \n",
      "4599      [Roasted Chili Corn Salsa, [Cheese, Lettuce]]     $8.75   \n",
      "4600                                                NaN     $4.45   \n",
      "4601                                        [Diet Coke]     $1.25   \n",
      "4602                      [Tomatillo Green Chili Salsa]     $9.25   \n",
      "4603                      [Tomatillo Green Chili Salsa]     $9.25   \n",
      "4604  [Fresh Tomato Salsa, [Rice, Black Beans, Chees...     $8.75   \n",
      "4605                                                NaN     $4.45   \n",
      "4606                                             [Coke]     $1.25   \n",
      "4607  [Tomatillo Green Chili Salsa, [Rice, Cheese, S...    $11.75   \n",
      "4608  [Tomatillo Red Chili Salsa, [Fajita Vegetables...    $11.25   \n",
      "4609                                           [Sprite]     $1.25   \n",
      "4610  [Fresh Tomato Salsa, [Rice, Sour Cream, Cheese...    $11.75   \n",
      "4611  [Tomatillo Green Chili Salsa, [Rice, Fajita Ve...    $11.25   \n",
      "4612  [Fresh Tomato Salsa, [Fajita Vegetables, Rice,...     $9.25   \n",
      "4613                                                NaN     $2.15   \n",
      "4614                                                NaN     $1.50   \n",
      "4615   [Fresh Tomato Salsa, [Rice, Cheese, Sour Cream]]     $8.75   \n",
      "4616                                                NaN     $4.45   \n",
      "4617  [Fresh Tomato Salsa, [Rice, Black Beans, Sour ...    $11.75   \n",
      "4618  [Fresh Tomato Salsa, [Rice, Sour Cream, Cheese...    $11.75   \n",
      "4619  [Fresh Tomato Salsa, [Fajita Vegetables, Pinto...    $11.25   \n",
      "4620  [Fresh Tomato Salsa, [Fajita Vegetables, Lettu...     $8.75   \n",
      "4621  [Fresh Tomato Salsa, [Fajita Vegetables, Pinto...     $8.75   \n",
      "\n",
      "[4622 rows x 5 columns]\n"
     ]
    }
   ],
   "source": [
    "orders = pd.read_table('http://bit.ly/chiporders')\n",
    "print(orders)"
   ]
  },
  {
   "cell_type": "code",
   "execution_count": 43,
   "metadata": {},
   "outputs": [
    {
     "name": "stdout",
     "output_type": "stream",
     "text": [
      "                  country  beer_servings  spirit_servings  wine_servings  \\\n",
      "0             Afghanistan              0                0              0   \n",
      "1                 Albania             89              132             54   \n",
      "2                 Algeria             25                0             14   \n",
      "3                 Andorra            245              138            312   \n",
      "4                  Angola            217               57             45   \n",
      "5       Antigua & Barbuda            102              128             45   \n",
      "6               Argentina            193               25            221   \n",
      "7                 Armenia             21              179             11   \n",
      "8               Australia            261               72            212   \n",
      "9                 Austria            279               75            191   \n",
      "10             Azerbaijan             21               46              5   \n",
      "11                Bahamas            122              176             51   \n",
      "12                Bahrain             42               63              7   \n",
      "13             Bangladesh              0                0              0   \n",
      "14               Barbados            143              173             36   \n",
      "15                Belarus            142              373             42   \n",
      "16                Belgium            295               84            212   \n",
      "17                 Belize            263              114              8   \n",
      "18                  Benin             34                4             13   \n",
      "19                 Bhutan             23                0              0   \n",
      "20                Bolivia            167               41              8   \n",
      "21     Bosnia-Herzegovina             76              173              8   \n",
      "22               Botswana            173               35             35   \n",
      "23                 Brazil            245              145             16   \n",
      "24                 Brunei             31                2              1   \n",
      "25               Bulgaria            231              252             94   \n",
      "26           Burkina Faso             25                7              7   \n",
      "27                Burundi             88                0              0   \n",
      "28          Cote d'Ivoire             37                1              7   \n",
      "29             Cabo Verde            144               56             16   \n",
      "..                    ...            ...              ...            ...   \n",
      "163              Suriname            128              178              7   \n",
      "164             Swaziland             90                2              2   \n",
      "165                Sweden            152               60            186   \n",
      "166           Switzerland            185              100            280   \n",
      "167                 Syria              5               35             16   \n",
      "168            Tajikistan              2               15              0   \n",
      "169              Thailand             99              258              1   \n",
      "170             Macedonia            106               27             86   \n",
      "171           Timor-Leste              1                1              4   \n",
      "172                  Togo             36                2             19   \n",
      "173                 Tonga             36               21              5   \n",
      "174     Trinidad & Tobago            197              156              7   \n",
      "175               Tunisia             51                3             20   \n",
      "176                Turkey             51               22              7   \n",
      "177          Turkmenistan             19               71             32   \n",
      "178                Tuvalu              6               41              9   \n",
      "179                Uganda             45                9              0   \n",
      "180               Ukraine            206              237             45   \n",
      "181  United Arab Emirates             16              135              5   \n",
      "182        United Kingdom            219              126            195   \n",
      "183              Tanzania             36                6              1   \n",
      "184                   USA            249              158             84   \n",
      "185               Uruguay            115               35            220   \n",
      "186            Uzbekistan             25              101              8   \n",
      "187               Vanuatu             21               18             11   \n",
      "188             Venezuela            333              100              3   \n",
      "189               Vietnam            111                2              1   \n",
      "190                 Yemen              6                0              0   \n",
      "191                Zambia             32               19              4   \n",
      "192              Zimbabwe             64               18              4   \n",
      "\n",
      "     total_litres_of_pure_alcohol      continent  \n",
      "0                             0.0           Asia  \n",
      "1                             4.9         Europe  \n",
      "2                             0.7         Africa  \n",
      "3                            12.4         Europe  \n",
      "4                             5.9         Africa  \n",
      "5                             4.9  North America  \n",
      "6                             8.3  South America  \n",
      "7                             3.8         Europe  \n",
      "8                            10.4        Oceania  \n",
      "9                             9.7         Europe  \n",
      "10                            1.3         Europe  \n",
      "11                            6.3  North America  \n",
      "12                            2.0           Asia  \n",
      "13                            0.0           Asia  \n",
      "14                            6.3  North America  \n",
      "15                           14.4         Europe  \n",
      "16                           10.5         Europe  \n",
      "17                            6.8  North America  \n",
      "18                            1.1         Africa  \n",
      "19                            0.4           Asia  \n",
      "20                            3.8  South America  \n",
      "21                            4.6         Europe  \n",
      "22                            5.4         Africa  \n",
      "23                            7.2  South America  \n",
      "24                            0.6           Asia  \n",
      "25                           10.3         Europe  \n",
      "26                            4.3         Africa  \n",
      "27                            6.3         Africa  \n",
      "28                            4.0         Africa  \n",
      "29                            4.0         Africa  \n",
      "..                            ...            ...  \n",
      "163                           5.6  South America  \n",
      "164                           4.7         Africa  \n",
      "165                           7.2         Europe  \n",
      "166                          10.2         Europe  \n",
      "167                           1.0           Asia  \n",
      "168                           0.3           Asia  \n",
      "169                           6.4           Asia  \n",
      "170                           3.9         Europe  \n",
      "171                           0.1           Asia  \n",
      "172                           1.3         Africa  \n",
      "173                           1.1        Oceania  \n",
      "174                           6.4  North America  \n",
      "175                           1.3         Africa  \n",
      "176                           1.4           Asia  \n",
      "177                           2.2           Asia  \n",
      "178                           1.0        Oceania  \n",
      "179                           8.3         Africa  \n",
      "180                           8.9         Europe  \n",
      "181                           2.8           Asia  \n",
      "182                          10.4         Europe  \n",
      "183                           5.7         Africa  \n",
      "184                           8.7  North America  \n",
      "185                           6.6  South America  \n",
      "186                           2.4           Asia  \n",
      "187                           0.9        Oceania  \n",
      "188                           7.7  South America  \n",
      "189                           2.0           Asia  \n",
      "190                           0.1           Asia  \n",
      "191                           2.5         Africa  \n",
      "192                           4.7         Africa  \n",
      "\n",
      "[193 rows x 6 columns]\n"
     ]
    }
   ],
   "source": [
    "drinks = pd.read_csv('http://bit.ly/drinksbycountry')\n",
    "print(drinks)"
   ]
  },
  {
   "cell_type": "markdown",
   "metadata": {},
   "source": [
    "## Data Assesment"
   ]
  },
  {
   "cell_type": "code",
   "execution_count": null,
   "metadata": {},
   "outputs": [],
   "source": [
    "print(movies.head()) # examine the first 5 rows"
   ]
  },
  {
   "cell_type": "code",
   "execution_count": null,
   "metadata": {},
   "outputs": [],
   "source": [
    "print(ufo.tail()) # examine the last 5 rows"
   ]
  },
  {
   "cell_type": "code",
   "execution_count": null,
   "metadata": {},
   "outputs": [],
   "source": [
    "df.shape   # Shape of the dataset as matrix"
   ]
  },
  {
   "cell_type": "code",
   "execution_count": null,
   "metadata": {},
   "outputs": [],
   "source": [
    "ufo.info()"
   ]
  },
  {
   "cell_type": "code",
   "execution_count": null,
   "metadata": {},
   "outputs": [],
   "source": [
    "movies.dtypes"
   ]
  },
  {
   "cell_type": "code",
   "execution_count": null,
   "metadata": {},
   "outputs": [],
   "source": [
    "df.describe(include='all')     #calculate summary statistics"
   ]
  },
  {
   "cell_type": "code",
   "execution_count": 5,
   "metadata": {},
   "outputs": [
    {
     "data": {
      "text/plain": [
       "Index(['City', 'Colors Reported', 'Shape Reported', 'State', 'Time'], dtype='object')"
      ]
     },
     "execution_count": 5,
     "metadata": {},
     "output_type": "execute_result"
    }
   ],
   "source": [
    "ufo.columns"
   ]
  },
  {
   "cell_type": "code",
   "execution_count": null,
   "metadata": {},
   "outputs": [],
   "source": [
    "ufo['City']        # select the 'City' Series using bracket notation\n",
    "#ufo.City          # or equivalently, use dot notation"
   ]
  },
  {
   "cell_type": "code",
   "execution_count": null,
   "metadata": {},
   "outputs": [],
   "source": [
    "movies.genre.nunique()"
   ]
  },
  {
   "cell_type": "code",
   "execution_count": 15,
   "metadata": {},
   "outputs": [
    {
     "data": {
      "text/plain": [
       "array(['Crime', 'Action', 'Drama', 'Western', 'Adventure', 'Biography',\n",
       "       'Comedy', 'Animation', 'Mystery', 'Horror', 'Film-Noir', 'Sci-Fi',\n",
       "       'History', 'Thriller', 'Family', 'Fantasy'], dtype=object)"
      ]
     },
     "execution_count": 15,
     "metadata": {},
     "output_type": "execute_result"
    }
   ],
   "source": [
    "movies.genre.unique()"
   ]
  },
  {
   "cell_type": "code",
   "execution_count": null,
   "metadata": {},
   "outputs": [],
   "source": [
    "# loc  - [index/bool,'column names']\n",
    "# iloc - [index/bool,index position]  "
   ]
  },
  {
   "cell_type": "markdown",
   "metadata": {},
   "source": [
    "The [**`loc`**](http://pandas.pydata.org/pandas-docs/stable/generated/pandas.DataFrame.loc.html) method is used to select rows and columns by **label / name**. You can pass it:\n",
    "\n",
    "- A single label\n",
    "- A list of labels\n",
    "- A slice of labels\n",
    "- A boolean Series\n",
    "- A colon (which indicates \"all labels\")"
   ]
  },
  {
   "cell_type": "code",
   "execution_count": null,
   "metadata": {},
   "outputs": [],
   "source": [
    "# row 0, all columns\n",
    "ufo.loc[1, :]"
   ]
  },
  {
   "cell_type": "code",
   "execution_count": null,
   "metadata": {},
   "outputs": [],
   "source": [
    "# rows 0 and 1 and 2, all columns\n",
    "ufo.loc[[0, 1, 2], :]"
   ]
  },
  {
   "cell_type": "code",
   "execution_count": null,
   "metadata": {},
   "outputs": [],
   "source": [
    "# rows 0 through 2 (inclusive), all columns\n",
    "ufo.loc[0:2, :]"
   ]
  },
  {
   "cell_type": "code",
   "execution_count": null,
   "metadata": {},
   "outputs": [],
   "source": [
    "# rows 0 through 2 (inclusive), columns 'City' and 'State'\n",
    "ufo.loc[0:2, ['City', 'State']]"
   ]
  },
  {
   "cell_type": "code",
   "execution_count": null,
   "metadata": {},
   "outputs": [],
   "source": [
    "# rows 0 through 2 (inclusive), columns 'City' through 'State' (inclusive)\n",
    "ufo.loc[0:2, 'City':'State']"
   ]
  },
  {
   "cell_type": "markdown",
   "metadata": {},
   "source": [
    "The [**`iloc`**](http://pandas.pydata.org/pandas-docs/stable/generated/pandas.DataFrame.iloc.html) method is used to select rows and columns by **integer position**. You can pass it:\n",
    "\n",
    "- A single integer position\n",
    "- A list of integer positions\n",
    "- A slice of integer positions\n",
    "- A colon (which indicates \"all integer positions\")"
   ]
  },
  {
   "cell_type": "code",
   "execution_count": null,
   "metadata": {},
   "outputs": [],
   "source": [
    "# rows in positions 0 and 1, columns in positions 0 and 3\n",
    "ufo.iloc[[0, 1], [0, 3]]"
   ]
  },
  {
   "cell_type": "code",
   "execution_count": null,
   "metadata": {},
   "outputs": [],
   "source": [
    "# rows in positions 0 through 2 (exclusive), columns in positions 0 through 4 (exclusive)\n",
    "ufo.iloc[0:2, 0:4]"
   ]
  },
  {
   "cell_type": "code",
   "execution_count": null,
   "metadata": {},
   "outputs": [],
   "source": [
    "# rows in positions 0 through 2 (exclusive), all columns\n",
    "ufo.iloc[0:2, :]"
   ]
  },
  {
   "cell_type": "code",
   "execution_count": null,
   "metadata": {},
   "outputs": [],
   "source": [
    "# read a specific column\n",
    "df.columns \n",
    "print(df.iloc[2,1])\n"
   ]
  },
  {
   "cell_type": "markdown",
   "metadata": {},
   "source": [
    "## Sorting/Describing Data"
   ]
  },
  {
   "cell_type": "code",
   "execution_count": 29,
   "metadata": {},
   "outputs": [
    {
     "data": {
      "text/plain": [
       "542     (500) Days of Summer\n",
       "5               12 Angry Men\n",
       "201         12 Years a Slave\n",
       "698                127 Hours\n",
       "110    2001: A Space Odyssey\n",
       "Name: title, dtype: object"
      ]
     },
     "execution_count": 29,
     "metadata": {},
     "output_type": "execute_result"
    }
   ],
   "source": [
    "# sort the 'title' Series in ascending order (returns a Series)\n",
    "movies.title.sort_values().head()\n",
    "\n",
    "# sort in descending order instead\n",
    "#movies.title.sort_values(ascending=False).head()"
   ]
  },
  {
   "cell_type": "code",
   "execution_count": null,
   "metadata": {},
   "outputs": [],
   "source": [
    "movies.sort_values('title', ascending=False).head()"
   ]
  },
  {
   "cell_type": "code",
   "execution_count": null,
   "metadata": {},
   "outputs": [],
   "source": [
    "df.sort_values(['Type 1', 'HP'], ascending=[False,True])"
   ]
  },
  {
   "cell_type": "code",
   "execution_count": 1,
   "metadata": {},
   "outputs": [
    {
     "ename": "NameError",
     "evalue": "name 'movies' is not defined",
     "output_type": "error",
     "traceback": [
      "\u001b[1;31m---------------------------------------------------------------------------\u001b[0m",
      "\u001b[1;31mNameError\u001b[0m                                 Traceback (most recent call last)",
      "\u001b[1;32m<ipython-input-1-bcbcc401c030>\u001b[0m in \u001b[0;36m<module>\u001b[1;34m\u001b[0m\n\u001b[1;32m----> 1\u001b[1;33m \u001b[0mmovies\u001b[0m\u001b[1;33m.\u001b[0m\u001b[0msort_values\u001b[0m\u001b[1;33m(\u001b[0m\u001b[1;33m[\u001b[0m\u001b[1;34m'star_rating'\u001b[0m\u001b[1;33m,\u001b[0m \u001b[1;34m'duration'\u001b[0m\u001b[1;33m,\u001b[0m\u001b[1;34m'content_rating'\u001b[0m\u001b[1;33m]\u001b[0m\u001b[1;33m,\u001b[0m\u001b[0mascending\u001b[0m\u001b[1;33m=\u001b[0m\u001b[1;33m[\u001b[0m\u001b[1;32mFalse\u001b[0m\u001b[1;33m,\u001b[0m\u001b[1;32mTrue\u001b[0m\u001b[1;33m,\u001b[0m\u001b[1;32mTrue\u001b[0m\u001b[1;33m]\u001b[0m\u001b[1;33m)\u001b[0m\u001b[1;33m.\u001b[0m\u001b[0mhead\u001b[0m\u001b[1;33m(\u001b[0m\u001b[1;36m10\u001b[0m\u001b[1;33m)\u001b[0m\u001b[1;33m\u001b[0m\u001b[1;33m\u001b[0m\u001b[0m\n\u001b[0m",
      "\u001b[1;31mNameError\u001b[0m: name 'movies' is not defined"
     ]
    }
   ],
   "source": [
    "movies.sort_values(['star_rating', 'duration','content_rating'],ascending=[False,True,True]).head(10)"
   ]
  },
  {
   "cell_type": "markdown",
   "metadata": {},
   "source": [
    "## Making changes to the data"
   ]
  },
  {
   "cell_type": "code",
   "execution_count": null,
   "metadata": {},
   "outputs": [],
   "source": [
    "# Create a new series inside the orignal series\n",
    "\n",
    "ufo['Location'] = ufo.City + ', ' + ufo.State     # Create a new series inside the orignal series\n",
    "ufo.head()\n",
    "\n",
    "# df = df.drop(columns=['Total'])\n",
    "\n",
    "#df['Total'] = df.iloc[:, 4:10].sum(axis=1)\n",
    "\n",
    "#cols = list(df.columns)\n",
    "#df = df[cols[0:4] + [cols[-1]]+cols[4:12]]\n",
    "\n",
    "#df.head(5)"
   ]
  },
  {
   "cell_type": "code",
   "execution_count": null,
   "metadata": {},
   "outputs": [],
   "source": [
    "df['Total'] = df['HP'] + df['Attack'] + df['Defense'] + df['Sp. Atk'] + df['Sp. Def'] + df['Speed']\n",
    "df.head()"
   ]
  },
  {
   "cell_type": "code",
   "execution_count": null,
   "metadata": {},
   "outputs": [],
   "source": [
    "# rename a column\n",
    "\n",
    "df.rename(columns={'Name':'Pokemon'}, inplace = True )  \n",
    "df.head()"
   ]
  },
  {
   "cell_type": "code",
   "execution_count": null,
   "metadata": {},
   "outputs": [],
   "source": [
    "# remove columns\n",
    "\n",
    "ufo.drop(['City', 'State'], axis=1, inplace=True)       # Column axis=1  &  Row axis=0\n",
    "ufo.head()"
   ]
  },
  {
   "cell_type": "markdown",
   "metadata": {},
   "source": [
    "## Saving our Data (Exporting into Desired Format)"
   ]
  },
  {
   "cell_type": "code",
   "execution_count": null,
   "metadata": {},
   "outputs": [],
   "source": [
    "# df.to_csv('modified.csv', index=False)\n",
    "\n",
    "#df.to_excel('modified.xlsx', index=False)\n",
    "\n",
    "df.to_csv('modified.txt', index=False, sep='\\t')\n",
    "\n",
    "\n"
   ]
  },
  {
   "cell_type": "markdown",
   "metadata": {},
   "source": [
    "## Filtering Data"
   ]
  },
  {
   "cell_type": "code",
   "execution_count": null,
   "metadata": {},
   "outputs": [],
   "source": [
    "movies.duration"
   ]
  },
  {
   "cell_type": "code",
   "execution_count": null,
   "metadata": {},
   "outputs": [],
   "source": [
    "movies.duration >= 200"
   ]
  },
  {
   "cell_type": "code",
   "execution_count": null,
   "metadata": {},
   "outputs": [],
   "source": [
    "movies[movies.duration >= 200] "
   ]
  },
  {
   "cell_type": "code",
   "execution_count": 8,
   "metadata": {},
   "outputs": [
    {
     "data": {
      "text/plain": [
       "2                             The Godfather: Part II\n",
       "7      The Lord of the Rings: The Return of the King\n",
       "17                                     Seven Samurai\n",
       "78                       Once Upon a Time in America\n",
       "85                                Lawrence of Arabia\n",
       "142                Lagaan: Once Upon a Time in India\n",
       "157                               Gone with the Wind\n",
       "204                                          Ben-Hur\n",
       "445                             The Ten Commandments\n",
       "476                                           Hamlet\n",
       "630                                        Malcolm X\n",
       "767                  It's a Mad, Mad, Mad, Mad World\n",
       "Name: title, dtype: object"
      ]
     },
     "execution_count": 8,
     "metadata": {},
     "output_type": "execute_result"
    }
   ],
   "source": [
    "movies[movies.duration >= 200].title #spicifying movies titles only which are greater than 200 minutes"
   ]
  },
  {
   "cell_type": "markdown",
   "metadata": {},
   "source": [
    "Understanding **logical operators:**\n",
    "\n",
    "- **`and`**: True only if **both sides** of the operator are True\n",
    "- **`or`**: True if **either side** of the operator is True\n",
    "\n",
    "Rules for specifying **multiple filter criteria** in pandas:\n",
    "\n",
    "- use **`&`** instead of **`and`**\n",
    "- use **`|`** instead of **`or`**\n",
    "- add **parentheses** around each condition to specify evaluation order\n",
    "\n",
    "**Goal:** Further filter the DataFrame of long movies (duration >= 200) to only show movies which also have a 'genre' of 'Drama'\n"
   ]
  },
  {
   "cell_type": "code",
   "execution_count": null,
   "metadata": {},
   "outputs": [],
   "source": [
    "movies[(movies.duration >=200) & (movies.genre == 'Drama')]"
   ]
  },
  {
   "cell_type": "code",
   "execution_count": null,
   "metadata": {},
   "outputs": [],
   "source": [
    "movies[(movies.duration >=200) | (movies.genre == 'Drama')].head()"
   ]
  },
  {
   "cell_type": "code",
   "execution_count": 9,
   "metadata": {},
   "outputs": [
    {
     "data": {
      "text/html": [
       "<div>\n",
       "<style scoped>\n",
       "    .dataframe tbody tr th:only-of-type {\n",
       "        vertical-align: middle;\n",
       "    }\n",
       "\n",
       "    .dataframe tbody tr th {\n",
       "        vertical-align: top;\n",
       "    }\n",
       "\n",
       "    .dataframe thead th {\n",
       "        text-align: right;\n",
       "    }\n",
       "</style>\n",
       "<table border=\"1\" class=\"dataframe\">\n",
       "  <thead>\n",
       "    <tr style=\"text-align: right;\">\n",
       "      <th></th>\n",
       "      <th>star_rating</th>\n",
       "      <th>title</th>\n",
       "      <th>content_rating</th>\n",
       "      <th>genre</th>\n",
       "      <th>duration</th>\n",
       "      <th>actors_list</th>\n",
       "    </tr>\n",
       "  </thead>\n",
       "  <tbody>\n",
       "    <tr>\n",
       "      <th>0</th>\n",
       "      <td>9.3</td>\n",
       "      <td>The Shawshank Redemption</td>\n",
       "      <td>R</td>\n",
       "      <td>Crime</td>\n",
       "      <td>142</td>\n",
       "      <td>[u'Tim Robbins', u'Morgan Freeman', u'Bob Gunt...</td>\n",
       "    </tr>\n",
       "    <tr>\n",
       "      <th>1</th>\n",
       "      <td>9.2</td>\n",
       "      <td>The Godfather</td>\n",
       "      <td>R</td>\n",
       "      <td>Crime</td>\n",
       "      <td>175</td>\n",
       "      <td>[u'Marlon Brando', u'Al Pacino', u'James Caan']</td>\n",
       "    </tr>\n",
       "    <tr>\n",
       "      <th>2</th>\n",
       "      <td>9.1</td>\n",
       "      <td>The Godfather: Part II</td>\n",
       "      <td>R</td>\n",
       "      <td>Crime</td>\n",
       "      <td>200</td>\n",
       "      <td>[u'Al Pacino', u'Robert De Niro', u'Robert Duv...</td>\n",
       "    </tr>\n",
       "    <tr>\n",
       "      <th>3</th>\n",
       "      <td>9.0</td>\n",
       "      <td>The Dark Knight</td>\n",
       "      <td>PG-13</td>\n",
       "      <td>Action</td>\n",
       "      <td>152</td>\n",
       "      <td>[u'Christian Bale', u'Heath Ledger', u'Aaron E...</td>\n",
       "    </tr>\n",
       "    <tr>\n",
       "      <th>4</th>\n",
       "      <td>8.9</td>\n",
       "      <td>Pulp Fiction</td>\n",
       "      <td>R</td>\n",
       "      <td>Crime</td>\n",
       "      <td>154</td>\n",
       "      <td>[u'John Travolta', u'Uma Thurman', u'Samuel L....</td>\n",
       "    </tr>\n",
       "    <tr>\n",
       "      <th>5</th>\n",
       "      <td>8.9</td>\n",
       "      <td>12 Angry Men</td>\n",
       "      <td>NOT RATED</td>\n",
       "      <td>Drama</td>\n",
       "      <td>96</td>\n",
       "      <td>[u'Henry Fonda', u'Lee J. Cobb', u'Martin Bals...</td>\n",
       "    </tr>\n",
       "    <tr>\n",
       "      <th>9</th>\n",
       "      <td>8.9</td>\n",
       "      <td>Fight Club</td>\n",
       "      <td>R</td>\n",
       "      <td>Drama</td>\n",
       "      <td>139</td>\n",
       "      <td>[u'Brad Pitt', u'Edward Norton', u'Helena Bonh...</td>\n",
       "    </tr>\n",
       "    <tr>\n",
       "      <th>11</th>\n",
       "      <td>8.8</td>\n",
       "      <td>Inception</td>\n",
       "      <td>PG-13</td>\n",
       "      <td>Action</td>\n",
       "      <td>148</td>\n",
       "      <td>[u'Leonardo DiCaprio', u'Joseph Gordon-Levitt'...</td>\n",
       "    </tr>\n",
       "    <tr>\n",
       "      <th>12</th>\n",
       "      <td>8.8</td>\n",
       "      <td>Star Wars: Episode V - The Empire Strikes Back</td>\n",
       "      <td>PG</td>\n",
       "      <td>Action</td>\n",
       "      <td>124</td>\n",
       "      <td>[u'Mark Hamill', u'Harrison Ford', u'Carrie Fi...</td>\n",
       "    </tr>\n",
       "    <tr>\n",
       "      <th>13</th>\n",
       "      <td>8.8</td>\n",
       "      <td>Forrest Gump</td>\n",
       "      <td>PG-13</td>\n",
       "      <td>Drama</td>\n",
       "      <td>142</td>\n",
       "      <td>[u'Tom Hanks', u'Robin Wright', u'Gary Sinise']</td>\n",
       "    </tr>\n",
       "  </tbody>\n",
       "</table>\n",
       "</div>"
      ],
      "text/plain": [
       "    star_rating                                           title  \\\n",
       "0           9.3                        The Shawshank Redemption   \n",
       "1           9.2                                   The Godfather   \n",
       "2           9.1                          The Godfather: Part II   \n",
       "3           9.0                                 The Dark Knight   \n",
       "4           8.9                                    Pulp Fiction   \n",
       "5           8.9                                    12 Angry Men   \n",
       "9           8.9                                      Fight Club   \n",
       "11          8.8                                       Inception   \n",
       "12          8.8  Star Wars: Episode V - The Empire Strikes Back   \n",
       "13          8.8                                    Forrest Gump   \n",
       "\n",
       "   content_rating   genre  duration  \\\n",
       "0               R   Crime       142   \n",
       "1               R   Crime       175   \n",
       "2               R   Crime       200   \n",
       "3           PG-13  Action       152   \n",
       "4               R   Crime       154   \n",
       "5       NOT RATED   Drama        96   \n",
       "9               R   Drama       139   \n",
       "11          PG-13  Action       148   \n",
       "12             PG  Action       124   \n",
       "13          PG-13   Drama       142   \n",
       "\n",
       "                                          actors_list  \n",
       "0   [u'Tim Robbins', u'Morgan Freeman', u'Bob Gunt...  \n",
       "1     [u'Marlon Brando', u'Al Pacino', u'James Caan']  \n",
       "2   [u'Al Pacino', u'Robert De Niro', u'Robert Duv...  \n",
       "3   [u'Christian Bale', u'Heath Ledger', u'Aaron E...  \n",
       "4   [u'John Travolta', u'Uma Thurman', u'Samuel L....  \n",
       "5   [u'Henry Fonda', u'Lee J. Cobb', u'Martin Bals...  \n",
       "9   [u'Brad Pitt', u'Edward Norton', u'Helena Bonh...  \n",
       "11  [u'Leonardo DiCaprio', u'Joseph Gordon-Levitt'...  \n",
       "12  [u'Mark Hamill', u'Harrison Ford', u'Carrie Fi...  \n",
       "13    [u'Tom Hanks', u'Robin Wright', u'Gary Sinise']  "
      ]
     },
     "execution_count": 9,
     "metadata": {},
     "output_type": "execute_result"
    }
   ],
   "source": [
    "movies[(movies.genre == 'Crime') | (movies.genre == 'Drama') | (movies.genre == 'Action')].head(10)"
   ]
  },
  {
   "cell_type": "code",
   "execution_count": 14,
   "metadata": {},
   "outputs": [
    {
     "data": {
      "text/html": [
       "<div>\n",
       "<style scoped>\n",
       "    .dataframe tbody tr th:only-of-type {\n",
       "        vertical-align: middle;\n",
       "    }\n",
       "\n",
       "    .dataframe tbody tr th {\n",
       "        vertical-align: top;\n",
       "    }\n",
       "\n",
       "    .dataframe thead th {\n",
       "        text-align: right;\n",
       "    }\n",
       "</style>\n",
       "<table border=\"1\" class=\"dataframe\">\n",
       "  <thead>\n",
       "    <tr style=\"text-align: right;\">\n",
       "      <th></th>\n",
       "      <th>#</th>\n",
       "      <th>Name</th>\n",
       "      <th>Type 1</th>\n",
       "      <th>Type 2</th>\n",
       "      <th>HP</th>\n",
       "      <th>Attack</th>\n",
       "      <th>Defense</th>\n",
       "      <th>Sp. Atk</th>\n",
       "      <th>Sp. Def</th>\n",
       "      <th>Speed</th>\n",
       "      <th>Generation</th>\n",
       "      <th>Legendary</th>\n",
       "    </tr>\n",
       "  </thead>\n",
       "  <tbody>\n",
       "    <tr>\n",
       "      <th>2</th>\n",
       "      <td>3</td>\n",
       "      <td>Venusaur</td>\n",
       "      <td>Grass</td>\n",
       "      <td>Poison</td>\n",
       "      <td>80</td>\n",
       "      <td>82</td>\n",
       "      <td>83</td>\n",
       "      <td>100</td>\n",
       "      <td>100</td>\n",
       "      <td>80</td>\n",
       "      <td>1</td>\n",
       "      <td>False</td>\n",
       "    </tr>\n",
       "    <tr>\n",
       "      <th>3</th>\n",
       "      <td>3</td>\n",
       "      <td>VenusaurMega Venusaur</td>\n",
       "      <td>Grass</td>\n",
       "      <td>Poison</td>\n",
       "      <td>80</td>\n",
       "      <td>100</td>\n",
       "      <td>123</td>\n",
       "      <td>122</td>\n",
       "      <td>120</td>\n",
       "      <td>80</td>\n",
       "      <td>1</td>\n",
       "      <td>False</td>\n",
       "    </tr>\n",
       "    <tr>\n",
       "      <th>50</th>\n",
       "      <td>45</td>\n",
       "      <td>Vileplume</td>\n",
       "      <td>Grass</td>\n",
       "      <td>Poison</td>\n",
       "      <td>75</td>\n",
       "      <td>80</td>\n",
       "      <td>85</td>\n",
       "      <td>110</td>\n",
       "      <td>90</td>\n",
       "      <td>50</td>\n",
       "      <td>1</td>\n",
       "      <td>False</td>\n",
       "    </tr>\n",
       "    <tr>\n",
       "      <th>77</th>\n",
       "      <td>71</td>\n",
       "      <td>Victreebel</td>\n",
       "      <td>Grass</td>\n",
       "      <td>Poison</td>\n",
       "      <td>80</td>\n",
       "      <td>105</td>\n",
       "      <td>65</td>\n",
       "      <td>100</td>\n",
       "      <td>70</td>\n",
       "      <td>70</td>\n",
       "      <td>1</td>\n",
       "      <td>False</td>\n",
       "    </tr>\n",
       "    <tr>\n",
       "      <th>652</th>\n",
       "      <td>591</td>\n",
       "      <td>Amoonguss</td>\n",
       "      <td>Grass</td>\n",
       "      <td>Poison</td>\n",
       "      <td>114</td>\n",
       "      <td>85</td>\n",
       "      <td>70</td>\n",
       "      <td>85</td>\n",
       "      <td>80</td>\n",
       "      <td>30</td>\n",
       "      <td>5</td>\n",
       "      <td>False</td>\n",
       "    </tr>\n",
       "  </tbody>\n",
       "</table>\n",
       "</div>"
      ],
      "text/plain": [
       "       #                   Name Type 1  Type 2   HP  Attack  Defense  Sp. Atk  \\\n",
       "2      3               Venusaur  Grass  Poison   80      82       83      100   \n",
       "3      3  VenusaurMega Venusaur  Grass  Poison   80     100      123      122   \n",
       "50    45              Vileplume  Grass  Poison   75      80       85      110   \n",
       "77    71             Victreebel  Grass  Poison   80     105       65      100   \n",
       "652  591              Amoonguss  Grass  Poison  114      85       70       85   \n",
       "\n",
       "     Sp. Def  Speed  Generation  Legendary  \n",
       "2        100     80           1      False  \n",
       "3        120     80           1      False  \n",
       "50        90     50           1      False  \n",
       "77        70     70           1      False  \n",
       "652       80     30           5      False  "
      ]
     },
     "execution_count": 14,
     "metadata": {},
     "output_type": "execute_result"
    }
   ],
   "source": [
    "new_df = df.loc[(df['Type 1'] == 'Grass') & (df['Type 2'] == 'Poison') & (df['HP'] > 70)]\n",
    "\n",
    "#new_df.reset_index(drop=True, inplace=True)\n",
    "\n",
    "new_df\n",
    "\n",
    "#new_df.to_csv('filtered.csv')\n"
   ]
  },
  {
   "cell_type": "code",
   "execution_count": 34,
   "metadata": {},
   "outputs": [
    {
     "data": {
      "text/plain": [
       "0    False\n",
       "1    False\n",
       "2    False\n",
       "3    False\n",
       "4     True\n",
       "Name: item_name, dtype: bool"
      ]
     },
     "execution_count": 34,
     "metadata": {},
     "output_type": "execute_result"
    }
   ],
   "source": [
    "orders.item_name.str.contains('Chicken').head()"
   ]
  },
  {
   "cell_type": "code",
   "execution_count": 35,
   "metadata": {},
   "outputs": [
    {
     "data": {
      "text/html": [
       "<div>\n",
       "<style scoped>\n",
       "    .dataframe tbody tr th:only-of-type {\n",
       "        vertical-align: middle;\n",
       "    }\n",
       "\n",
       "    .dataframe tbody tr th {\n",
       "        vertical-align: top;\n",
       "    }\n",
       "\n",
       "    .dataframe thead th {\n",
       "        text-align: right;\n",
       "    }\n",
       "</style>\n",
       "<table border=\"1\" class=\"dataframe\">\n",
       "  <thead>\n",
       "    <tr style=\"text-align: right;\">\n",
       "      <th></th>\n",
       "      <th>order_id</th>\n",
       "      <th>quantity</th>\n",
       "      <th>item_name</th>\n",
       "      <th>choice_description</th>\n",
       "      <th>item_price</th>\n",
       "    </tr>\n",
       "  </thead>\n",
       "  <tbody>\n",
       "    <tr>\n",
       "      <th>4</th>\n",
       "      <td>2</td>\n",
       "      <td>2</td>\n",
       "      <td>Chicken Bowl</td>\n",
       "      <td>[Tomatillo-Red Chili Salsa (Hot), [Black Beans...</td>\n",
       "      <td>$16.98</td>\n",
       "    </tr>\n",
       "    <tr>\n",
       "      <th>5</th>\n",
       "      <td>3</td>\n",
       "      <td>1</td>\n",
       "      <td>Chicken Bowl</td>\n",
       "      <td>[Fresh Tomato Salsa (Mild), [Rice, Cheese, Sou...</td>\n",
       "      <td>$10.98</td>\n",
       "    </tr>\n",
       "    <tr>\n",
       "      <th>11</th>\n",
       "      <td>6</td>\n",
       "      <td>1</td>\n",
       "      <td>Chicken Crispy Tacos</td>\n",
       "      <td>[Roasted Chili Corn Salsa, [Fajita Vegetables,...</td>\n",
       "      <td>$8.75</td>\n",
       "    </tr>\n",
       "    <tr>\n",
       "      <th>12</th>\n",
       "      <td>6</td>\n",
       "      <td>1</td>\n",
       "      <td>Chicken Soft Tacos</td>\n",
       "      <td>[Roasted Chili Corn Salsa, [Rice, Black Beans,...</td>\n",
       "      <td>$8.75</td>\n",
       "    </tr>\n",
       "    <tr>\n",
       "      <th>13</th>\n",
       "      <td>7</td>\n",
       "      <td>1</td>\n",
       "      <td>Chicken Bowl</td>\n",
       "      <td>[Fresh Tomato Salsa, [Fajita Vegetables, Rice,...</td>\n",
       "      <td>$11.25</td>\n",
       "    </tr>\n",
       "  </tbody>\n",
       "</table>\n",
       "</div>"
      ],
      "text/plain": [
       "    order_id  quantity             item_name  \\\n",
       "4          2         2          Chicken Bowl   \n",
       "5          3         1          Chicken Bowl   \n",
       "11         6         1  Chicken Crispy Tacos   \n",
       "12         6         1    Chicken Soft Tacos   \n",
       "13         7         1          Chicken Bowl   \n",
       "\n",
       "                                   choice_description item_price  \n",
       "4   [Tomatillo-Red Chili Salsa (Hot), [Black Beans...    $16.98   \n",
       "5   [Fresh Tomato Salsa (Mild), [Rice, Cheese, Sou...    $10.98   \n",
       "11  [Roasted Chili Corn Salsa, [Fajita Vegetables,...     $8.75   \n",
       "12  [Roasted Chili Corn Salsa, [Rice, Black Beans,...     $8.75   \n",
       "13  [Fresh Tomato Salsa, [Fajita Vegetables, Rice,...    $11.25   "
      ]
     },
     "execution_count": 35,
     "metadata": {},
     "output_type": "execute_result"
    }
   ],
   "source": [
    "orders[orders.item_name.str.contains('Chicken')].head()  # Filtering data with string 'Chicken'"
   ]
  },
  {
   "cell_type": "code",
   "execution_count": null,
   "metadata": {},
   "outputs": [],
   "source": [
    "# create a DataFrame only containing movies with a high 'star_rating'\n",
    "top_movies = movies.loc[movies.star_rating >= 9, :]\n",
    "top_movies"
   ]
  },
  {
   "cell_type": "markdown",
   "metadata": {},
   "source": [
    "## Handling Missing Values"
   ]
  },
  {
   "cell_type": "markdown",
   "metadata": {},
   "source": [
    "**What does \"NaN\" mean?**\n",
    "\n",
    "- \"NaN\" is not a string, rather it's a special value: **`numpy.nan`**.\n",
    "- It stands for \"Not a Number\" and indicates a **missing value**.\n",
    "- **`read_csv`** detects missing values (by default) when reading the file, and replaces them with this special value."
   ]
  },
  {
   "cell_type": "code",
   "execution_count": null,
   "metadata": {},
   "outputs": [],
   "source": [
    "# 'isnull' returns a DataFrame of booleans (True if missing, False if not missing)\n",
    "\n",
    "ufo.isnull().tail()\n",
    "#ufo.isnull().sum()"
   ]
  },
  {
   "cell_type": "code",
   "execution_count": null,
   "metadata": {},
   "outputs": [],
   "source": [
    "# 'nonnull' returns the opposite of 'isnull' (True if not missing, False if missing)\n",
    "\n",
    "ufo.notnull().tail()\n",
    "#ufo.notnull().sum()"
   ]
  },
  {
   "cell_type": "code",
   "execution_count": null,
   "metadata": {},
   "outputs": [],
   "source": [
    "# use the 'isnull' Series method to filter the DataFrame rows\n",
    "\n",
    "ufo[ufo.City.isnull()].head()"
   ]
  },
  {
   "cell_type": "code",
   "execution_count": null,
   "metadata": {},
   "outputs": [],
   "source": [
    "ufo.dropna(how='any')          # if 'any' values are missing in a row, then drop that row\n",
    "#ufo.dropna(how='any').shape"
   ]
  },
  {
   "cell_type": "code",
   "execution_count": null,
   "metadata": {},
   "outputs": [],
   "source": [
    "ufo.dropna(how='all')       # if 'all' values are missing in a row, then drop that row (none are dropped in this case)\n",
    "#ufo.dropna(how='all').shape"
   ]
  },
  {
   "cell_type": "code",
   "execution_count": null,
   "metadata": {},
   "outputs": [],
   "source": [
    "# if 'any' values are missing in a row (considering only 'City' and 'Shape Reported'), then drop that row\n",
    "\n",
    "ufo.dropna(subset=['City', 'Shape Reported'], how='any').shape"
   ]
  },
  {
   "cell_type": "code",
   "execution_count": null,
   "metadata": {},
   "outputs": [],
   "source": [
    "# if 'all' values are missing in a row (considering only 'City' and 'Shape Reported'), then drop that row\n",
    "\n",
    "ufo.dropna(subset=['City', 'Shape Reported'], how='all').shape"
   ]
  },
  {
   "cell_type": "code",
   "execution_count": null,
   "metadata": {},
   "outputs": [],
   "source": [
    "ufo['Shape Reported'].value_counts()               # 'value_counts' does not include missing values by default\n",
    "#ufo['Shape Reported'].value_counts(dropna=False)   # explicitly include missing values"
   ]
  },
  {
   "cell_type": "code",
   "execution_count": null,
   "metadata": {},
   "outputs": [],
   "source": [
    "ufo['Shape Reported'].fillna(value='VARIOUS', inplace=True)   # fill in missing values with a specified value\n",
    "#ufo['Shape Reported'].value_counts().head()                   # confirm that the missing values were filled in"
   ]
  },
  {
   "cell_type": "markdown",
   "metadata": {},
   "source": [
    "## Groupby Methods\n"
   ]
  },
  {
   "cell_type": "code",
   "execution_count": null,
   "metadata": {},
   "outputs": [],
   "source": [
    "# calculate the mean beer servings for each continent\n",
    "drinks.groupby('continent').describe()['beer_servings']"
   ]
  },
  {
   "cell_type": "code",
   "execution_count": null,
   "metadata": {},
   "outputs": [],
   "source": [
    "# other aggregation functions (such as 'max') can also be used with groupby\n",
    "drinks.groupby('continent').beer_servings.max()"
   ]
  },
  {
   "cell_type": "code",
   "execution_count": null,
   "metadata": {},
   "outputs": [],
   "source": [
    "import matplotlib.pyplot as plt\n",
    "%matplotlib inline"
   ]
  },
  {
   "cell_type": "code",
   "execution_count": null,
   "metadata": {},
   "outputs": [],
   "source": [
    "drinks.groupby('continent').mean().plot(kind='bar')"
   ]
  },
  {
   "cell_type": "markdown",
   "metadata": {},
   "source": [
    "\n",
    "## Miscellaneous\n",
    "\n"
   ]
  },
  {
   "cell_type": "code",
   "execution_count": null,
   "metadata": {},
   "outputs": [],
   "source": [
    "# replace all of the column names by overwriting the 'columns' attribute\n",
    "\n",
    "ufo_cols = ['city', 'colors_reported', 'shape_reported', 'state', 'time','Location']\n",
    "ufo.columns = ufo_cols\n",
    "ufo.columns"
   ]
  },
  {
   "cell_type": "code",
   "execution_count": null,
   "metadata": {},
   "outputs": [],
   "source": [
    "# replace all spaces with underscores in the column names by using the 'str.replace' method\n",
    "\n",
    "ufo.columns = ufo.columns.str.replace(' ', '_')\n",
    "ufo.columns"
   ]
  },
  {
   "cell_type": "code",
   "execution_count": null,
   "metadata": {},
   "outputs": [],
   "source": [
    "# replace the column names during the file reading process by using the 'names' parameter\n",
    "\n",
    "ufo = pd.read_csv('ufo.csv', header=0, names=ufo_cols)\n",
    "ufo.columns"
   ]
  },
  {
   "cell_type": "markdown",
   "metadata": {},
   "source": [
    "## For detailed documentation (https://pandas.pydata.org/pandas-docs/stable/reference/index.html)"
   ]
  },
  {
   "cell_type": "code",
   "execution_count": null,
   "metadata": {},
   "outputs": [],
   "source": []
  }
 ],
 "metadata": {
  "kernelspec": {
   "display_name": "Python 3",
   "language": "python",
   "name": "python3"
  },
  "language_info": {
   "codemirror_mode": {
    "name": "ipython",
    "version": 3
   },
   "file_extension": ".py",
   "mimetype": "text/x-python",
   "name": "python",
   "nbconvert_exporter": "python",
   "pygments_lexer": "ipython3",
   "version": "3.7.3"
  }
 },
 "nbformat": 4,
 "nbformat_minor": 2
}